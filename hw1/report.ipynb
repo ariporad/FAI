{
 "cells": [
  {
   "cell_type": "code",
   "execution_count": 1,
   "id": "satellite-arrival",
   "metadata": {},
   "outputs": [],
   "source": [
    "from main import *"
   ]
  },
  {
   "cell_type": "markdown",
   "id": "representative-northwest",
   "metadata": {},
   "source": [
    "Let's start by solving the provided test problem:"
   ]
  },
  {
   "cell_type": "code",
   "execution_count": 2,
   "id": "plastic-percentage",
   "metadata": {
    "scrolled": false
   },
   "outputs": [
    {
     "output_type": "stream",
     "name": "stdout",
     "text": [
      "Test Problem:\n[(1, 6, 5, 4, 3, 2), (1, 6, 4, 2, 5, 3), (1, 2, 3, 4, 5, 6), (1, 6, 2, 4, 5, 3), (1, 4, 3, 6, 5, 2), (1, 4, 6, 2, 3, 5), (1, 6, 5, 3, 2, 4)]\nAri Porad's Solution for Homework 1, Drive Ya Nuts:\nSolution Found: State: SOLUTION; C: 1/6/2/4/5/3; Placed: 1/4/6/2/3/5, 6/5/3/2/4/1, 2/1/4/3/6/5, 4/5/6/1/2/3, 5/3/1/6/4/2, 3/2/1/6/5/4; Remaining: -\n\n    6 5     6 2     \n   1   4   4   3    \n    2 3     1 5     \n                          \n 4 2     3 1     5 3 \n6   5   5   6   6   2 \n 1 3     4 2     1 4  \n                      \n    3 4      2 1     \n   2   5    5   4    \n    1 6      6 3     \n\t\n"
     ]
    }
   ],
   "source": [
    "print(\"Test Problem:\")\n",
    "print(TEST_PUZZLE)\n",
    "main()"
   ]
  },
  {
   "source": [
    "Foo!"
   ],
   "cell_type": "markdown",
   "metadata": {}
  },
  {
   "cell_type": "code",
   "execution_count": null,
   "metadata": {},
   "outputs": [],
   "source": []
  }
 ],
 "metadata": {
  "kernelspec": {
   "display_name": "Python 3",
   "language": "python",
   "name": "python3"
  },
  "language_info": {
   "codemirror_mode": {
    "name": "ipython",
    "version": 3
   },
   "file_extension": ".py",
   "mimetype": "text/x-python",
   "name": "python",
   "nbconvert_exporter": "python",
   "pygments_lexer": "ipython3",
   "version": "3.9.1-final"
  }
 },
 "nbformat": 4,
 "nbformat_minor": 5
}