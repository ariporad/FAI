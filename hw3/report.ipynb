{
 "cells": [
  {
   "cell_type": "markdown",
   "metadata": {
    "collapsed": true,
    "pycharm": {
     "name": "#%% md\n"
    }
   },
   "source": [
    "# Homework 3: Deep Flappy Bird\n",
    "**By Ari Porad, May 4th 2021**\n",
    "\n",
    "**For Brandeis COSI 101A with Professor Jordan Pollack**\n",
    "\n",
    "## Discussion\n",
    "\n",
    "For this assignment, I built a Flappy Bird simulation environment and implemented the epsilon-greedy strategy for a DQN neural network. The neural network was then trained to play Flappy Bird using the simulated environment, both with and without pipes (in the `pipes` and `flight` configuration, respectively). I'll briefly discuss these two components, then dive in to the results of training the neural network.\n",
    "\n",
    "![Original Flappy Bird screenshot, from the HW3 assignment.](flappy-bird.jpg)\n",
    "\n",
    "### Flappy Bird Environment\n",
    "\n",
    "I built an environment that simulates the Flappy Bird game so that the neural network could be easily trained against it. The environment simulates a Flappy Bird game as a series of discrete time steps (_frames_). The specifications of the environment are as follows:\n",
    "\n",
    "* A frame is 50x50px, where each pixel is either `0` (empty air), `1` (a wall or pipe), or `2` the bird. The origin of the frame's coordinate system is at the top left of the screen.\n",
    "* Each frame has a 2px tall border along the entire top and bottom of the frame\n",
    "* There are up to 2 pipes on the screen at each time, separated by a horizontal distance of 22px. Each pipe is 7px wide.\n",
    "* Pipes move leftward at 1px/frame, entering from the right and exiting to the left. The first pipe starts 1px off the right edge of the screen, becoming visible on the 2nd frame. The second pipe is, therefore 22+7 = 29px off the right edge of the screen.\n",
    "* Once a pipe has fully disappeared offscreen to the left, it is reintroduced from the right edge of the screen after 1 frame (ie. there is one frame where the pipe is not visible onscreen).\n",
    "* Pipes are split in half vertically, with a 20px gap.\n",
    "* In deterministic mode, both halves of each pipe are always the same length, 13px (excluding the border). Otherwise, the top half each pipe is assigned a random length between 3px and 22px (excluding the border). The bottom half of the pipe is sized to maintain the 20px gap.\n",
    "* The bird is 5x5px. Its left edge is always in the 23rd column of pixels. (Which is as close to horizontally centered as it can be, given that it's an odd-width object in an even-width frame.)\n",
    "* The bird's vertical position is adjusted by its velocity every frame. The bird's velocity starts at 0px/frame and accelerates by 2px/frame/frame downward each frame where the screen is not tapped. When the screen is tapped, the bird's velocity is reset to 5px/frame upwards.\n",
    "* At each time step, the environment returns an _observation_, which is composed of the most recent three frames. It also returns the neural network's reward (`-1` if the bird has crashed, `1` if it has just cleared a pipe, or `0` otherwise), and if the bird has crashed (which ends the episode).\n",
    "\n",
    "The code is thoroughly documented, so I won't spend much time elaborating on it here. However, there are some details worth highlighting:\n",
    "\n",
    "* TODO"
   ]
  }
 ],
 "metadata": {
  "kernelspec": {
   "display_name": "Python 3",
   "language": "python",
   "name": "python3"
  },
  "language_info": {
   "codemirror_mode": {
    "name": "ipython",
    "version": 2
   },
   "file_extension": ".py",
   "mimetype": "text/x-python",
   "name": "python",
   "nbconvert_exporter": "python",
   "pygments_lexer": "ipython2",
   "version": "2.7.6"
  }
 },
 "nbformat": 4,
 "nbformat_minor": 0
}